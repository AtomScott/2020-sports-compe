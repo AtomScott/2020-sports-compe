{
 "cells": [
  {
   "cell_type": "markdown",
   "metadata": {},
   "source": [
    "## エクセルデータを少しだけ綺麗にする"
   ]
  },
  {
   "cell_type": "code",
   "execution_count": 1,
   "metadata": {},
   "outputs": [],
   "source": [
    "import pandas as pd"
   ]
  },
  {
   "cell_type": "code",
   "execution_count": 2,
   "metadata": {},
   "outputs": [
    {
     "data": {
      "text/html": [
       "<div>\n",
       "<style scoped>\n",
       "    .dataframe tbody tr th:only-of-type {\n",
       "        vertical-align: middle;\n",
       "    }\n",
       "\n",
       "    .dataframe tbody tr th {\n",
       "        vertical-align: top;\n",
       "    }\n",
       "\n",
       "    .dataframe thead th {\n",
       "        text-align: right;\n",
       "    }\n",
       "</style>\n",
       "<table border=\"1\" class=\"dataframe\">\n",
       "  <thead>\n",
       "    <tr style=\"text-align: right;\">\n",
       "      <th></th>\n",
       "      <th>competition</th>\n",
       "      <th>name of game(fencer_NOC-fencer_NOC)</th>\n",
       "      <th>score</th>\n",
       "    </tr>\n",
       "  </thead>\n",
       "  <tbody>\n",
       "    <tr>\n",
       "      <th>0</th>\n",
       "      <td>Vancouver WA</td>\n",
       "      <td>ALEXANIN Dmitriy_KAZ-SONG Jae Ho_KOR</td>\n",
       "      <td>9-15</td>\n",
       "    </tr>\n",
       "    <tr>\n",
       "      <th>1</th>\n",
       "      <td>Vancouver WA</td>\n",
       "      <td>BAYARD Alexis_SUI-PARK Sangyoung_KOR</td>\n",
       "      <td>12-13</td>\n",
       "    </tr>\n",
       "    <tr>\n",
       "      <th>2</th>\n",
       "      <td>Vancouver WA</td>\n",
       "      <td>BERTA Daniel_HUN-GAROZZO Enrico_ITA</td>\n",
       "      <td>8-15</td>\n",
       "    </tr>\n",
       "    <tr>\n",
       "      <th>3</th>\n",
       "      <td>Vancouver WA</td>\n",
       "      <td>BIDA Sergey_RUS-PRIINITS Sten_EST</td>\n",
       "      <td>15-13</td>\n",
       "    </tr>\n",
       "    <tr>\n",
       "      <th>4</th>\n",
       "      <td>Vancouver WA</td>\n",
       "      <td>BIDA Sergey_RUS-SONG Jae Ho_KOR</td>\n",
       "      <td>15-10</td>\n",
       "    </tr>\n",
       "  </tbody>\n",
       "</table>\n",
       "</div>"
      ],
      "text/plain": [
       "    competition   name of game(fencer_NOC-fencer_NOC)  score\n",
       "0  Vancouver WA  ALEXANIN Dmitriy_KAZ-SONG Jae Ho_KOR   9-15\n",
       "1  Vancouver WA  BAYARD Alexis_SUI-PARK Sangyoung_KOR  12-13\n",
       "2  Vancouver WA   BERTA Daniel_HUN-GAROZZO Enrico_ITA   8-15\n",
       "3  Vancouver WA     BIDA Sergey_RUS-PRIINITS Sten_EST  15-13\n",
       "4  Vancouver WA       BIDA Sergey_RUS-SONG Jae Ho_KOR  15-10"
      ]
     },
     "execution_count": 2,
     "metadata": {},
     "output_type": "execute_result"
    }
   ],
   "source": [
    "_df = pd.read_excel('../20200708_fencing competiton.xlsx')\n",
    "_df.head()"
   ]
  },
  {
   "cell_type": "code",
   "execution_count": 3,
   "metadata": {},
   "outputs": [
    {
     "data": {
      "text/html": [
       "<div>\n",
       "<style scoped>\n",
       "    .dataframe tbody tr th:only-of-type {\n",
       "        vertical-align: middle;\n",
       "    }\n",
       "\n",
       "    .dataframe tbody tr th {\n",
       "        vertical-align: top;\n",
       "    }\n",
       "\n",
       "    .dataframe thead th {\n",
       "        text-align: right;\n",
       "    }\n",
       "</style>\n",
       "<table border=\"1\" class=\"dataframe\">\n",
       "  <thead>\n",
       "    <tr style=\"text-align: right;\">\n",
       "      <th></th>\n",
       "      <th>competition</th>\n",
       "      <th>name of game(fencer_NOC-fencer_NOC)</th>\n",
       "      <th>score</th>\n",
       "      <th>p1_name</th>\n",
       "      <th>p1_nat</th>\n",
       "      <th>p2_name</th>\n",
       "      <th>p2_nat</th>\n",
       "      <th>p1_score</th>\n",
       "      <th>p2_score</th>\n",
       "    </tr>\n",
       "    <tr>\n",
       "      <th>Game_ID</th>\n",
       "      <th></th>\n",
       "      <th></th>\n",
       "      <th></th>\n",
       "      <th></th>\n",
       "      <th></th>\n",
       "      <th></th>\n",
       "      <th></th>\n",
       "      <th></th>\n",
       "      <th></th>\n",
       "    </tr>\n",
       "  </thead>\n",
       "  <tbody>\n",
       "    <tr>\n",
       "      <th>0</th>\n",
       "      <td>Vancouver WA</td>\n",
       "      <td>ALEXANIN Dmitriy_KAZ-SONG Jae Ho_KOR</td>\n",
       "      <td>9-15</td>\n",
       "      <td>ALEXANIN Dmitriy</td>\n",
       "      <td>KAZ</td>\n",
       "      <td>SONG Jae Ho</td>\n",
       "      <td>KOR</td>\n",
       "      <td>9</td>\n",
       "      <td>15</td>\n",
       "    </tr>\n",
       "    <tr>\n",
       "      <th>1</th>\n",
       "      <td>Vancouver WA</td>\n",
       "      <td>BAYARD Alexis_SUI-PARK Sangyoung_KOR</td>\n",
       "      <td>12-13</td>\n",
       "      <td>BAYARD Alexis</td>\n",
       "      <td>SUI</td>\n",
       "      <td>PARK Sangyoung</td>\n",
       "      <td>KOR</td>\n",
       "      <td>12</td>\n",
       "      <td>13</td>\n",
       "    </tr>\n",
       "    <tr>\n",
       "      <th>2</th>\n",
       "      <td>Vancouver WA</td>\n",
       "      <td>BERTA Daniel_HUN-GAROZZO Enrico_ITA</td>\n",
       "      <td>8-15</td>\n",
       "      <td>BERTA Daniel</td>\n",
       "      <td>HUN</td>\n",
       "      <td>GAROZZO Enrico</td>\n",
       "      <td>ITA</td>\n",
       "      <td>8</td>\n",
       "      <td>15</td>\n",
       "    </tr>\n",
       "    <tr>\n",
       "      <th>3</th>\n",
       "      <td>Vancouver WA</td>\n",
       "      <td>BIDA Sergey_RUS-PRIINITS Sten_EST</td>\n",
       "      <td>15-13</td>\n",
       "      <td>BIDA Sergey</td>\n",
       "      <td>RUS</td>\n",
       "      <td>PRIINITS Sten</td>\n",
       "      <td>EST</td>\n",
       "      <td>15</td>\n",
       "      <td>13</td>\n",
       "    </tr>\n",
       "    <tr>\n",
       "      <th>4</th>\n",
       "      <td>Vancouver WA</td>\n",
       "      <td>BIDA Sergey_RUS-SONG Jae Ho_KOR</td>\n",
       "      <td>15-10</td>\n",
       "      <td>BIDA Sergey</td>\n",
       "      <td>RUS</td>\n",
       "      <td>SONG Jae Ho</td>\n",
       "      <td>KOR</td>\n",
       "      <td>15</td>\n",
       "      <td>10</td>\n",
       "    </tr>\n",
       "  </tbody>\n",
       "</table>\n",
       "</div>"
      ],
      "text/plain": [
       "          competition   name of game(fencer_NOC-fencer_NOC)  score  \\\n",
       "Game_ID                                                              \n",
       "0        Vancouver WA  ALEXANIN Dmitriy_KAZ-SONG Jae Ho_KOR   9-15   \n",
       "1        Vancouver WA  BAYARD Alexis_SUI-PARK Sangyoung_KOR  12-13   \n",
       "2        Vancouver WA   BERTA Daniel_HUN-GAROZZO Enrico_ITA   8-15   \n",
       "3        Vancouver WA     BIDA Sergey_RUS-PRIINITS Sten_EST  15-13   \n",
       "4        Vancouver WA       BIDA Sergey_RUS-SONG Jae Ho_KOR  15-10   \n",
       "\n",
       "                  p1_name p1_nat         p2_name p2_nat p1_score p2_score  \n",
       "Game_ID                                                                    \n",
       "0        ALEXANIN Dmitriy    KAZ     SONG Jae Ho    KOR        9       15  \n",
       "1           BAYARD Alexis    SUI  PARK Sangyoung    KOR       12       13  \n",
       "2            BERTA Daniel    HUN  GAROZZO Enrico    ITA        8       15  \n",
       "3             BIDA Sergey    RUS   PRIINITS Sten    EST       15       13  \n",
       "4             BIDA Sergey    RUS     SONG Jae Ho    KOR       15       10  "
      ]
     },
     "execution_count": 3,
     "metadata": {},
     "output_type": "execute_result"
    }
   ],
   "source": [
    "player_info = _df['name of game(fencer_NOC-fencer_NOC)'].str.split('-').items()\n",
    "score_info = _df['score'].str.split('-').items()\n",
    "\n",
    "df = pd.concat([\n",
    "    _df,\n",
    "    pd.DataFrame([(*x[0].split('_'), *x[1].split('_')) for _, x in player_info], \n",
    "                 columns=['p1_name', 'p1_nat', 'p2_name','p2_nat']),\n",
    "    pd.DataFrame([x for _, x in score_info],\n",
    "                 columns=['p1_score', 'p2_score'])\n",
    "], axis=1)\n",
    "df.index = df.index.rename('Game_ID')\n",
    "df.head()"
   ]
  },
  {
   "cell_type": "code",
   "execution_count": 4,
   "metadata": {},
   "outputs": [
    {
     "data": {
      "text/plain": [
       "array(['Vancouver WA', 'Budapest GP', 'Heidenheim WA'], dtype=object)"
      ]
     },
     "execution_count": 4,
     "metadata": {},
     "output_type": "execute_result"
    }
   ],
   "source": [
    "## Competitionってなに\n",
    "\n",
    "df['competition'].unique()"
   ]
  },
  {
   "cell_type": "markdown",
   "metadata": {},
   "source": [
    "## 国別・選手別で試合データのばらつきを見てみる"
   ]
  },
  {
   "cell_type": "code",
   "execution_count": 5,
   "metadata": {},
   "outputs": [
    {
     "data": {
      "text/plain": [
       "<Figure size 2000x400 with 1 Axes>"
      ]
     },
     "metadata": {},
     "output_type": "display_data"
    },
    {
     "data": {
      "text/plain": [
       "<Figure size 2000x400 with 1 Axes>"
      ]
     },
     "metadata": {},
     "output_type": "display_data"
    }
   ],
   "source": [
    "import matplotlib.pyplot as plt\n",
    "\n",
    "ply_cnts = pd.concat([df['p1_name'],df['p2_name']]).value_counts()\n",
    "nat_cnts = pd.concat([df['p1_nat'],df['p2_nat']]).value_counts()\n",
    "\n",
    "plt.figure(figsize=(20,4))\n",
    "plt.bar(ply_cnts.index, ply_cnts.values)\n",
    "plt.xticks(rotation='vertical')\n",
    "plt.title('Player Frequency')\n",
    "plt.ylabel('Games Played')\n",
    "plt.xlabel('Name')\n",
    "plt.show()\n",
    "\n",
    "plt.figure(figsize=(20,4))\n",
    "plt.bar(nat_cnts.index, nat_cnts.values)\n",
    "plt.xticks(rotation='vertical')\n",
    "plt.title('Nationality Frequency')\n",
    "plt.ylabel('Games Played')\n",
    "plt.xlabel('Nation')\n",
    "plt.show()"
   ]
  },
  {
   "cell_type": "markdown",
   "metadata": {},
   "source": [
    "## 得点を見てみる"
   ]
  },
  {
   "cell_type": "code",
   "execution_count": 6,
   "metadata": {},
   "outputs": [
    {
     "ename": "NameError",
     "evalue": "name 'np' is not defined",
     "output_type": "error",
     "traceback": [
      "\u001b[0;31m---------------------------------------------------------------------------\u001b[0m",
      "\u001b[0;31mNameError\u001b[0m                                 Traceback (most recent call last)",
      "\u001b[0;32m<ipython-input-6-198d88edbd73>\u001b[0m in \u001b[0;36m<module>\u001b[0;34m\u001b[0m\n\u001b[1;32m      5\u001b[0m data = {\n\u001b[1;32m      6\u001b[0m     \u001b[0;34m'all scores'\u001b[0m\u001b[0;34m:\u001b[0m \u001b[0mscores\u001b[0m\u001b[0;34m.\u001b[0m\u001b[0mflatten\u001b[0m\u001b[0;34m(\u001b[0m\u001b[0;34m)\u001b[0m\u001b[0;34m,\u001b[0m\u001b[0;34m\u001b[0m\u001b[0;34m\u001b[0m\u001b[0m\n\u001b[0;32m----> 7\u001b[0;31m     \u001b[0;34m'lose scores'\u001b[0m\u001b[0;34m:\u001b[0m\u001b[0mnp\u001b[0m\u001b[0;34m.\u001b[0m\u001b[0msort\u001b[0m\u001b[0;34m(\u001b[0m\u001b[0mscores\u001b[0m\u001b[0;34m)\u001b[0m\u001b[0;34m.\u001b[0m\u001b[0mT\u001b[0m\u001b[0;34m[\u001b[0m\u001b[0;36m0\u001b[0m\u001b[0;34m]\u001b[0m\u001b[0;34m,\u001b[0m\u001b[0;34m\u001b[0m\u001b[0;34m\u001b[0m\u001b[0m\n\u001b[0m\u001b[1;32m      8\u001b[0m     \u001b[0;34m'win scores'\u001b[0m\u001b[0;34m:\u001b[0m\u001b[0mnp\u001b[0m\u001b[0;34m.\u001b[0m\u001b[0msort\u001b[0m\u001b[0;34m(\u001b[0m\u001b[0mscores\u001b[0m\u001b[0;34m)\u001b[0m\u001b[0;34m.\u001b[0m\u001b[0mT\u001b[0m\u001b[0;34m[\u001b[0m\u001b[0;36m1\u001b[0m\u001b[0;34m]\u001b[0m\u001b[0;34m,\u001b[0m\u001b[0;34m\u001b[0m\u001b[0;34m\u001b[0m\u001b[0m\n\u001b[1;32m      9\u001b[0m     \u001b[0;34m'diff'\u001b[0m\u001b[0;34m:\u001b[0m \u001b[0mwin_scores\u001b[0m \u001b[0;34m-\u001b[0m \u001b[0mlose_scores\u001b[0m\u001b[0;34m\u001b[0m\u001b[0;34m\u001b[0m\u001b[0m\n",
      "\u001b[0;31mNameError\u001b[0m: name 'np' is not defined"
     ]
    }
   ],
   "source": [
    "import seaborn as sns\n",
    "\n",
    "scores = df[['p1_score','p2_score']].astype(int).values\n",
    "\n",
    "data = {\n",
    "    'all scores': scores.flatten(),\n",
    "    'lose scores':np.sort(scores).T[0], \n",
    "    'win scores':np.sort(scores).T[1],\n",
    "    'diff': win_scores - lose_scores\n",
    "}\n",
    "\n",
    "fig, axs = plt.subplots(2,2,figsize=(12, 8))\n",
    "for i, (name, values) in enumerate(data.items()):\n",
    "    ax = axs[i//2, i%2]\n",
    "    ax.set_title(name)\n",
    "    sns.histplot(values,bins=15,ax=ax)\n",
    "plt.show()"
   ]
  },
  {
   "cell_type": "markdown",
   "metadata": {},
   "source": [
    "必ずしも15点を取って勝っているわけではない！"
   ]
  },
  {
   "cell_type": "markdown",
   "metadata": {},
   "source": [
    "## 追加データ\n",
    "\n",
    "FIE websiteからデータを引っ張ってくることで対戦成績が分かるのでは？という狙い\n",
    "必要あれば、スクレイピングするのはあり。（APIないので面倒）"
   ]
  },
  {
   "cell_type": "code",
   "execution_count": null,
   "metadata": {},
   "outputs": [],
   "source": [
    "import requests\n",
    "from bs4 import BeautifulSoup\n",
    "\n",
    "fie_df = pd.read_excel('../2020_10_09_fie.xlsx')\n",
    "url = fie_df.iloc[0]['url']\n",
    "print(url)\n",
    "r = requests.get(url)"
   ]
  },
  {
   "cell_type": "code",
   "execution_count": null,
   "metadata": {},
   "outputs": [],
   "source": [
    "soup = BeautifulSoup(r.text, 'html.parser')\n",
    "mydivs = soup.find(\"div\", {\"class\": \"AthleteBio-sidebar SecondaryMenu-block js-secondary-menu-item\"})\n",
    "mydivs.find(\"div\", {\"class\": \"Tabs-itemsWrapper\"}).findAll(\"div\", {\"class\":\"Tabs-item\"})"
   ]
  },
  {
   "cell_type": "code",
   "execution_count": null,
   "metadata": {},
   "outputs": [],
   "source": []
  },
  {
   "cell_type": "code",
   "execution_count": null,
   "metadata": {},
   "outputs": [],
   "source": []
  }
 ],
 "metadata": {
  "kernelspec": {
   "display_name": "Python 3",
   "language": "python",
   "name": "python3"
  },
  "language_info": {
   "codemirror_mode": {
    "name": "ipython",
    "version": 3
   },
   "file_extension": ".py",
   "mimetype": "text/x-python",
   "name": "python",
   "nbconvert_exporter": "python",
   "pygments_lexer": "ipython3",
   "version": "3.7.3"
  }
 },
 "nbformat": 4,
 "nbformat_minor": 2
}
